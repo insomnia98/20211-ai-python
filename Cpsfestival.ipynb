{
  "nbformat": 4,
  "nbformat_minor": 0,
  "metadata": {
    "colab": {
      "name": "minseok_week4_final.ipynb",
      "provenance": [],
      "authorship_tag": "ABX9TyNg2yUtTN67gL3CFz/LNGN/",
      "include_colab_link": true
    },
    "kernelspec": {
      "name": "python3",
      "display_name": "Python 3"
    },
    "language_info": {
      "name": "python"
    }
  },
  "cells": [
    {
      "cell_type": "markdown",
      "metadata": {
        "id": "view-in-github",
        "colab_type": "text"
      },
      "source": [
        "<a href=\"https://colab.research.google.com/github/insomnia98/2021_AI_Python/blob/main/Cpsfestival.ipynb\" target=\"_parent\"><img src=\"https://colab.research.google.com/assets/colab-badge.svg\" alt=\"Open In Colab\"/></a>"
      ]
    },
    {
      "cell_type": "code",
      "metadata": {
        "id": "W-PpsMyWvc2l"
      },
      "source": [
        "import pandas as pd\n",
        "import matplotlib.pyplot as plt\n",
        "import matplotlib\n",
        "matplotlib.rcParams['axes.unicode_minus'] = False ## 마이나스 '-' 표시 제대로 출력\n",
        " \n",
        "from statsmodels.formula.api import ols\n",
        "from sklearn.linear_model import LinearRegression"
      ],
      "execution_count": 37,
      "outputs": []
    },
    {
      "cell_type": "code",
      "metadata": {
        "id": "LEFSmLhC5-Cf"
      },
      "source": [
        "df = pd.read_csv('/content/six.txt', delimiter = '\\t')"
      ],
      "execution_count": 38,
      "outputs": []
    },
    {
      "cell_type": "code",
      "metadata": {
        "id": "i-p6A69O7itC",
        "outputId": "1d24cf64-4da7-4f1b-adf1-a41ce8110ecf",
        "colab": {
          "base_uri": "https://localhost:8080/",
          "height": 388
        }
      },
      "source": [
        "df"
      ],
      "execution_count": 39,
      "outputs": [
        {
          "output_type": "execute_result",
          "data": {
            "text/html": [
              "<div>\n",
              "<style scoped>\n",
              "    .dataframe tbody tr th:only-of-type {\n",
              "        vertical-align: middle;\n",
              "    }\n",
              "\n",
              "    .dataframe tbody tr th {\n",
              "        vertical-align: top;\n",
              "    }\n",
              "\n",
              "    .dataframe thead th {\n",
              "        text-align: right;\n",
              "    }\n",
              "</style>\n",
              "<table border=\"1\" class=\"dataframe\">\n",
              "  <thead>\n",
              "    <tr style=\"text-align: right;\">\n",
              "      <th></th>\n",
              "      <th>x</th>\n",
              "      <th>y</th>\n",
              "    </tr>\n",
              "  </thead>\n",
              "  <tbody>\n",
              "    <tr>\n",
              "      <th>0</th>\n",
              "      <td>5</td>\n",
              "      <td>18</td>\n",
              "    </tr>\n",
              "    <tr>\n",
              "      <th>1</th>\n",
              "      <td>-15</td>\n",
              "      <td>-82</td>\n",
              "    </tr>\n",
              "    <tr>\n",
              "      <th>2</th>\n",
              "      <td>7</td>\n",
              "      <td>28</td>\n",
              "    </tr>\n",
              "    <tr>\n",
              "      <th>3</th>\n",
              "      <td>-7</td>\n",
              "      <td>-42</td>\n",
              "    </tr>\n",
              "    <tr>\n",
              "      <th>4</th>\n",
              "      <td>-11</td>\n",
              "      <td>-62</td>\n",
              "    </tr>\n",
              "    <tr>\n",
              "      <th>5</th>\n",
              "      <td>3</td>\n",
              "      <td>8</td>\n",
              "    </tr>\n",
              "    <tr>\n",
              "      <th>6</th>\n",
              "      <td>-9</td>\n",
              "      <td>-52</td>\n",
              "    </tr>\n",
              "    <tr>\n",
              "      <th>7</th>\n",
              "      <td>1</td>\n",
              "      <td>-2</td>\n",
              "    </tr>\n",
              "    <tr>\n",
              "      <th>8</th>\n",
              "      <td>-1</td>\n",
              "      <td>-12</td>\n",
              "    </tr>\n",
              "    <tr>\n",
              "      <th>9</th>\n",
              "      <td>11</td>\n",
              "      <td>48</td>\n",
              "    </tr>\n",
              "    <tr>\n",
              "      <th>10</th>\n",
              "      <td>9</td>\n",
              "      <td>38</td>\n",
              "    </tr>\n",
              "  </tbody>\n",
              "</table>\n",
              "</div>"
            ],
            "text/plain": [
              "     x   y\n",
              "0    5  18\n",
              "1  -15 -82\n",
              "2    7  28\n",
              "3   -7 -42\n",
              "4  -11 -62\n",
              "5    3   8\n",
              "6   -9 -52\n",
              "7    1  -2\n",
              "8   -1 -12\n",
              "9   11  48\n",
              "10   9  38"
            ]
          },
          "metadata": {
            "tags": []
          },
          "execution_count": 39
        }
      ]
    },
    {
      "cell_type": "code",
      "metadata": {
        "id": "sQRrAXe47kBt",
        "outputId": "dceef59e-6fbb-44b8-fe67-4dd284ef2a20",
        "colab": {
          "base_uri": "https://localhost:8080/",
          "height": 502
        }
      },
      "source": [
        "## 시각화\n",
        "fig = plt.figure(figsize=(8,8))\n",
        "fig.set_facecolor('white')\n",
        " \n",
        "font_size = 15\n",
        "plt.scatter(df['x'],df['y']) ## 원 데이터 산포도\n",
        " \n",
        "plt.xlabel('X data set', fontsize=font_size)\n",
        "plt.ylabel('Y data set',fontsize=font_size)\n",
        "plt.show()"
      ],
      "execution_count": 40,
      "outputs": [
        {
          "output_type": "display_data",
          "data": {
            "image/png": "[encoded data removed]",
            "text/plain": [
              "<Figure size 576x576 with 1 Axes>"
            ]
          },
          "metadata": {
            "tags": []
          }
        }
      ]
    },
    {
      "cell_type": "code",
      "metadata": {
        "id": "v5ceW5ki8faS"
      },
      "source": [
        "fit = ols('y ~ x',data=df).fit() ## 단순선형회귀모형 적합\n"
      ],
      "execution_count": 41,
      "outputs": []
    },
    {
      "cell_type": "code",
      "metadata": {
        "id": "n1bfe5m19FDV",
        "outputId": "18f3b74c-923c-4ff3-fe46-d459b1e0a3a8",
        "colab": {
          "base_uri": "https://localhost:8080/",
          "height": 467
        }
      },
      "source": [
        "fit.summary()"
      ],
      "execution_count": 42,
      "outputs": [
        {
          "output_type": "stream",
          "text": [
            "/usr/local/lib/python3.7/dist-packages/scipy/stats/stats.py:1535: UserWarning: kurtosistest only valid for n>=20 ... continuing anyway, n=11\n",
            "  \"anyway, n=%i\" % int(n))\n"
          ],
          "name": "stderr"
        },
        {
          "output_type": "execute_result",
          "data": {
            "text/html": [
              "<table class=\"simpletable\">\n",
              "<caption>OLS Regression Results</caption>\n",
              "<tr>\n",
              "  <th>Dep. Variable:</th>            <td>y</td>        <th>  R-squared:         </th> <td>   1.000</td> \n",
              "</tr>\n",
              "<tr>\n",
              "  <th>Model:</th>                   <td>OLS</td>       <th>  Adj. R-squared:    </th> <td>   1.000</td> \n",
              "</tr>\n",
              "<tr>\n",
              "  <th>Method:</th>             <td>Least Squares</td>  <th>  F-statistic:       </th> <td>6.562e+31</td>\n",
              "</tr>\n",
              "<tr>\n",
              "  <th>Date:</th>             <td>Tue, 27 Jul 2021</td> <th>  Prob (F-statistic):</th> <td>3.39e-140</td>\n",
              "</tr>\n",
              "<tr>\n",
              "  <th>Time:</th>                 <td>08:09:07</td>     <th>  Log-Likelihood:    </th> <td>  334.26</td> \n",
              "</tr>\n",
              "<tr>\n",
              "  <th>No. Observations:</th>      <td>    11</td>      <th>  AIC:               </th> <td>  -664.5</td> \n",
              "</tr>\n",
              "<tr>\n",
              "  <th>Df Residuals:</th>          <td>     9</td>      <th>  BIC:               </th> <td>  -663.7</td> \n",
              "</tr>\n",
              "<tr>\n",
              "  <th>Df Model:</th>              <td>     1</td>      <th>                     </th>     <td> </td>    \n",
              "</tr>\n",
              "<tr>\n",
              "  <th>Covariance Type:</th>      <td>nonrobust</td>    <th>                     </th>     <td> </td>    \n",
              "</tr>\n",
              "</table>\n",
              "<table class=\"simpletable\">\n",
              "<tr>\n",
              "      <td></td>         <th>coef</th>     <th>std err</th>      <th>t</th>      <th>P>|t|</th>  <th>[0.025</th>    <th>0.975]</th>  \n",
              "</tr>\n",
              "<tr>\n",
              "  <th>Intercept</th> <td>   -7.0000</td> <td> 5.14e-15</td> <td>-1.36e+15</td> <td> 0.000</td> <td>   -7.000</td> <td>   -7.000</td>\n",
              "</tr>\n",
              "<tr>\n",
              "  <th>x</th>         <td>    5.0000</td> <td> 6.17e-16</td> <td>  8.1e+15</td> <td> 0.000</td> <td>    5.000</td> <td>    5.000</td>\n",
              "</tr>\n",
              "</table>\n",
              "<table class=\"simpletable\">\n",
              "<tr>\n",
              "  <th>Omnibus:</th>       <td> 0.905</td> <th>  Durbin-Watson:     </th> <td>   2.226</td>\n",
              "</tr>\n",
              "<tr>\n",
              "  <th>Prob(Omnibus):</th> <td> 0.636</td> <th>  Jarque-Bera (JB):  </th> <td>   0.666</td>\n",
              "</tr>\n",
              "<tr>\n",
              "  <th>Skew:</th>          <td> 0.211</td> <th>  Prob(JB):          </th> <td>   0.717</td>\n",
              "</tr>\n",
              "<tr>\n",
              "  <th>Kurtosis:</th>      <td> 1.871</td> <th>  Cond. No.          </th> <td>    8.35</td>\n",
              "</tr>\n",
              "</table><br/><br/>Warnings:<br/>[1] Standard Errors assume that the covariance matrix of the errors is correctly specified."
            ],
            "text/plain": [
              "<class 'statsmodels.iolib.summary.Summary'>\n",
              "\"\"\"\n",
              "                            OLS Regression Results                            \n",
              "==============================================================================\n",
              "Dep. Variable:                      y   R-squared:                       1.000\n",
              "Model:                            OLS   Adj. R-squared:                  1.000\n",
              "Method:                 Least Squares   F-statistic:                 6.562e+31\n",
              "Date:                Tue, 27 Jul 2021   Prob (F-statistic):          3.39e-140\n",
              "Time:                        08:09:07   Log-Likelihood:                 334.26\n",
              "No. Observations:                  11   AIC:                            -664.5\n",
              "Df Residuals:                       9   BIC:                            -663.7\n",
              "Df Model:                           1                                         \n",
              "Covariance Type:            nonrobust                                         \n",
              "==============================================================================\n",
              "                 coef    std err          t      P>|t|      [0.025      0.975]\n",
              "------------------------------------------------------------------------------\n",
              "Intercept     -7.0000   5.14e-15  -1.36e+15      0.000      -7.000      -7.000\n",
              "x              5.0000   6.17e-16    8.1e+15      0.000       5.000       5.000\n",
              "==============================================================================\n",
              "Omnibus:                        0.905   Durbin-Watson:                   2.226\n",
              "Prob(Omnibus):                  0.636   Jarque-Bera (JB):                0.666\n",
              "Skew:                           0.211   Prob(JB):                        0.717\n",
              "Kurtosis:                       1.871   Cond. No.                         8.35\n",
              "==============================================================================\n",
              "\n",
              "Warnings:\n",
              "[1] Standard Errors assume that the covariance matrix of the errors is correctly specified.\n",
              "\"\"\""
            ]
          },
          "metadata": {
            "tags": []
          },
          "execution_count": 42
        }
      ]
    },
    {
      "cell_type": "code",
      "metadata": {
        "id": "kMmZmPjC9Qg2",
        "outputId": "081dbe15-c915-4391-f86b-f5672720509e",
        "colab": {
          "base_uri": "https://localhost:8080/"
        }
      },
      "source": [
        "## 회귀 계수\n",
        "print(fit.params.Intercept) ## 절편\n",
        "print(fit.params.x) ## 기울기"
      ],
      "execution_count": 43,
      "outputs": [
        {
          "output_type": "stream",
          "text": [
            "-7.000000000000001\n",
            "5.000000000000002\n"
          ],
          "name": "stdout"
        }
      ]
    },
    {
      "cell_type": "code",
      "metadata": {
        "id": "8t0RxiJb9dYQ",
        "outputId": "3b01201a-8b2a-4772-8079-c433a37d07bf",
        "colab": {
          "base_uri": "https://localhost:8080/"
        }
      },
      "source": [
        "## 추정값\n",
        "fit.fittedvalues"
      ],
      "execution_count": 44,
      "outputs": [
        {
          "output_type": "execute_result",
          "data": {
            "text/plain": [
              "0     18.0\n",
              "1    -82.0\n",
              "2     28.0\n",
              "3    -42.0\n",
              "4    -62.0\n",
              "5      8.0\n",
              "6    -52.0\n",
              "7     -2.0\n",
              "8    -12.0\n",
              "9     48.0\n",
              "10    38.0\n",
              "dtype: float64"
            ]
          },
          "metadata": {
            "tags": []
          },
          "execution_count": 44
        }
      ]
    },
    {
      "cell_type": "code",
      "metadata": {
        "id": "Cb59tHu09jH6",
        "outputId": "d3b0a504-9d40-4d48-89e9-6426a0b524a7",
        "colab": {
          "base_uri": "https://localhost:8080/"
        }
      },
      "source": [
        "## 잔차\n",
        "fit.resid"
      ],
      "execution_count": 45,
      "outputs": [
        {
          "output_type": "execute_result",
          "data": {
            "text/plain": [
              "0    -7.105427e-15\n",
              "1     2.842171e-14\n",
              "2    -1.421085e-14\n",
              "3     1.421085e-14\n",
              "4     2.131628e-14\n",
              "5    -3.552714e-15\n",
              "6     1.421085e-14\n",
              "7    -8.881784e-16\n",
              "8     3.552714e-15\n",
              "9    -2.131628e-14\n",
              "10   -1.421085e-14\n",
              "dtype: float64"
            ]
          },
          "metadata": {
            "tags": []
          },
          "execution_count": 45
        }
      ]
    },
    {
      "cell_type": "code",
      "metadata": {
        "id": "2XifDoG-94B8",
        "outputId": "49857196-a01a-4b4f-c701-900eba407ddb",
        "colab": {
          "base_uri": "https://localhost:8080/"
        }
      },
      "source": [
        "## 예측값\n",
        "fit.predict(exog=dict(x=[-11]))"
      ],
      "execution_count": 46,
      "outputs": [
        {
          "output_type": "execute_result",
          "data": {
            "text/plain": [
              "0   -62.0\n",
              "dtype: float64"
            ]
          },
          "metadata": {
            "tags": []
          },
          "execution_count": 46
        }
      ]
    },
    {
      "cell_type": "code",
      "metadata": {
        "id": "cudFtUst-EI0",
        "outputId": "539ea260-5afa-46d3-f692-0d3435abf25c",
        "colab": {
          "base_uri": "https://localhost:8080/",
          "height": 502
        }
      },
      "source": [
        "fig = plt.figure(figsize=(8,8))\n",
        "fig.set_facecolor('white')\n",
        " \n",
        "font_size = 15\n",
        "plt.scatter(df['x'],df['y']) ## 원 데이터 산포도\n",
        "plt.plot(df['x'],fit.fittedvalues,color='red') ## 회귀직선 추가\n",
        " \n",
        "plt.xlabel('X data set', fontsize=font_size)\n",
        "plt.ylabel('Y data set',fontsize=font_size)\n",
        "plt.show()"
      ],
      "execution_count": 47,
      "outputs": [
        {
          "output_type": "display_data",
          "data": {
            "image/png": "[encoded data removed]",
            "text/plain": [
              "<Figure size 576x576 with 1 Axes>"
            ]
          },
          "metadata": {
            "tags": []
          }
        }
      ]
    },
    {
      "cell_type": "code",
      "metadata": {
        "id": "ieuDnC02-RQK",
        "outputId": "70b5fbe4-503f-4177-ce47-07ebc582f020",
        "colab": {
          "base_uri": "https://localhost:8080/",
          "height": 513
        }
      },
      "source": [
        "## 잔차도 Residual Plot\n",
        "fig = plt.figure(figsize=(8,8))\n",
        "fig.set_facecolor('white')\n",
        " \n",
        "font_size = 15\n",
        " \n",
        "plt.scatter(df['x'],fit.resid) ## 잔차도 출력\n",
        " \n",
        "plt.xlabel('x', fontsize=font_size)\n",
        "plt.ylabel('y', fontsize=font_size)\n",
        "plt.show()"
      ],
      "execution_count": 48,
      "outputs": [
        {
          "output_type": "display_data",
          "data": {
            "image/png": "[encoded data removed]",
            "text/plain": [
              "<Figure size 576x576 with 1 Axes>"
            ]
          },
          "metadata": {
            "tags": []
          }
        }
      ]
    },
    {
      "cell_type": "markdown",
      "metadata": {
        "id": "gNrVdwts-iDe"
      },
      "source": [
        "# sklearn 이용"
      ]
    },
    {
      "cell_type": "code",
      "metadata": {
        "id": "JVGUAb9U-fk0"
      },
      "source": [
        "x = df['x'].values.reshape(-1,1) ## 차원 증가 시켜준다.\n",
        "y = df['y']\n",
        " \n",
        "fit = LinearRegression().fit(x,y) ## 단순선형회귀모형 적합\n"
      ],
      "execution_count": 49,
      "outputs": []
    },
    {
      "cell_type": "code",
      "metadata": {
        "id": "Xl91CqwH-q_2",
        "outputId": "79c77441-8ab1-4ec3-e717-ae7eacd21ce2",
        "colab": {
          "base_uri": "https://localhost:8080/"
        }
      },
      "source": [
        "## 회귀 계수\n",
        "print(fit.intercept_) ## 절편\n",
        "print(fit.coef_) ## 기울기"
      ],
      "execution_count": 50,
      "outputs": [
        {
          "output_type": "stream",
          "text": [
            "-7.0\n",
            "[5.]\n"
          ],
          "name": "stdout"
        }
      ]
    },
    {
      "cell_type": "code",
      "metadata": {
        "id": "BsKEA96P-uXS",
        "outputId": "7e1bd0a6-e7f1-40b2-9bc3-526d88f4a28f",
        "colab": {
          "base_uri": "https://localhost:8080/"
        }
      },
      "source": [
        "fit.predict(x)"
      ],
      "execution_count": 51,
      "outputs": [
        {
          "output_type": "execute_result",
          "data": {
            "text/plain": [
              "array([ 18., -82.,  28., -42., -62.,   8., -52.,  -2., -12.,  48.,  38.])"
            ]
          },
          "metadata": {
            "tags": []
          },
          "execution_count": 51
        }
      ]
    },
    {
      "cell_type": "code",
      "metadata": {
        "id": "JSvVGVH1_bLn",
        "outputId": "0567603a-d385-407c-8505-ae0ce3338254",
        "colab": {
          "base_uri": "https://localhost:8080/"
        }
      },
      "source": [
        "## 잔차\n",
        "residual = y - fit.predict(x)\n",
        "print(residual)"
      ],
      "execution_count": 52,
      "outputs": [
        {
          "output_type": "stream",
          "text": [
            "0     3.552714e-15\n",
            "1    -1.421085e-14\n",
            "2     7.105427e-15\n",
            "3    -7.105427e-15\n",
            "4    -7.105427e-15\n",
            "5     3.552714e-15\n",
            "6    -7.105427e-15\n",
            "7     8.881784e-16\n",
            "8     0.000000e+00\n",
            "9     7.105427e-15\n",
            "10    7.105427e-15\n",
            "Name: y, dtype: float64\n"
          ],
          "name": "stdout"
        }
      ]
    },
    {
      "cell_type": "code",
      "metadata": {
        "id": "mh-XYyqd_gNY",
        "outputId": "63671508-9cf3-4a5a-b839-8c18a5272e89",
        "colab": {
          "base_uri": "https://localhost:8080/"
        }
      },
      "source": [
        "fit.predict([[-11],[-4],[-9],[-2],[-10],[-2],[0],[-3],[1],[-6],[-7]])\n"
      ],
      "execution_count": 53,
      "outputs": [
        {
          "output_type": "execute_result",
          "data": {
            "text/plain": [
              "array([-62., -27., -52., -17., -57., -17.,  -7., -22.,  -2., -37., -42.])"
            ]
          },
          "metadata": {
            "tags": []
          },
          "execution_count": 53
        }
      ]
    },
    {
      "cell_type": "code",
      "metadata": {
        "id": "dh2b3iq7_rxX"
      },
      "source": [
        ""
      ],
      "execution_count": null,
      "outputs": []
    }
  ]
}