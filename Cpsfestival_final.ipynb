{
  "nbformat": 4,
  "nbformat_minor": 0,
  "metadata": {
    "colab": {
      "name": "minseok_week4_final.ipynb",
      "provenance": [],
      "authorship_tag": "ABX9TyOcYaKXmdoK2CgyGVQQXhei",
      "include_colab_link": true
    },
    "kernelspec": {
      "name": "python3",
      "display_name": "Python 3"
    },
    "language_info": {
      "name": "python"
    }
  },
  "cells": [
    {
      "cell_type": "markdown",
      "metadata": {
        "id": "view-in-github",
        "colab_type": "text"
      },
      "source": [
        "<a href=\"https://colab.research.google.com/github/insomnia98/2021_AI_Python/blob/main/Cpsfestival_final.ipynb\" target=\"_parent\"><img src=\"https://colab.research.google.com/assets/colab-badge.svg\" alt=\"Open In Colab\"/></a>"
      ]
    },
    {
      "cell_type": "code",
      "metadata": {
        "id": "W-PpsMyWvc2l"
      },
      "source": [
        "import pandas as pd\n",
        "#데이터 불러오는데 사용하는 라이브러리\n",
        "import matplotlib.pyplot as plt\n",
        "#시각화 목적 라이브러리\n",
        "import numpy as np\n",
        "#배열을 바꿀때 사용하는 라이브러리\n",
        "from sklearn.linear_model import LinearRegression\n",
        "#선형회귀 기계학습 scikit learn 라이브러리"
      ],
      "execution_count": 24,
      "outputs": []
    },
    {
      "cell_type": "code",
      "metadata": {
        "id": "LEFSmLhC5-Cf"
      },
      "source": [
        "df = pd.read_csv('/content/six.txt', delimiter = '\\t')\n",
        "#설명변수data set과 목표변수data set이 작성되있는 텍스트파일을 csv파일로 변환후 불러오기"
      ],
      "execution_count": 25,
      "outputs": []
    },
    {
      "cell_type": "code",
      "metadata": {
        "id": "i-p6A69O7itC",
        "colab": {
          "base_uri": "https://localhost:8080/",
          "height": 388
        },
        "outputId": "c9c82905-62e8-457d-e720-c3b98b95f0f5"
      },
      "source": [
        "df"
      ],
      "execution_count": 16,
      "outputs": [
        {
          "output_type": "execute_result",
          "data": {
            "text/html": [
              "<div>\n",
              "<style scoped>\n",
              "    .dataframe tbody tr th:only-of-type {\n",
              "        vertical-align: middle;\n",
              "    }\n",
              "\n",
              "    .dataframe tbody tr th {\n",
              "        vertical-align: top;\n",
              "    }\n",
              "\n",
              "    .dataframe thead th {\n",
              "        text-align: right;\n",
              "    }\n",
              "</style>\n",
              "<table border=\"1\" class=\"dataframe\">\n",
              "  <thead>\n",
              "    <tr style=\"text-align: right;\">\n",
              "      <th></th>\n",
              "      <th>x</th>\n",
              "      <th>y</th>\n",
              "    </tr>\n",
              "  </thead>\n",
              "  <tbody>\n",
              "    <tr>\n",
              "      <th>0</th>\n",
              "      <td>5</td>\n",
              "      <td>18</td>\n",
              "    </tr>\n",
              "    <tr>\n",
              "      <th>1</th>\n",
              "      <td>-15</td>\n",
              "      <td>-82</td>\n",
              "    </tr>\n",
              "    <tr>\n",
              "      <th>2</th>\n",
              "      <td>7</td>\n",
              "      <td>28</td>\n",
              "    </tr>\n",
              "    <tr>\n",
              "      <th>3</th>\n",
              "      <td>-7</td>\n",
              "      <td>-42</td>\n",
              "    </tr>\n",
              "    <tr>\n",
              "      <th>4</th>\n",
              "      <td>-11</td>\n",
              "      <td>-62</td>\n",
              "    </tr>\n",
              "    <tr>\n",
              "      <th>5</th>\n",
              "      <td>3</td>\n",
              "      <td>8</td>\n",
              "    </tr>\n",
              "    <tr>\n",
              "      <th>6</th>\n",
              "      <td>-9</td>\n",
              "      <td>-52</td>\n",
              "    </tr>\n",
              "    <tr>\n",
              "      <th>7</th>\n",
              "      <td>1</td>\n",
              "      <td>-2</td>\n",
              "    </tr>\n",
              "    <tr>\n",
              "      <th>8</th>\n",
              "      <td>-1</td>\n",
              "      <td>-12</td>\n",
              "    </tr>\n",
              "    <tr>\n",
              "      <th>9</th>\n",
              "      <td>11</td>\n",
              "      <td>48</td>\n",
              "    </tr>\n",
              "    <tr>\n",
              "      <th>10</th>\n",
              "      <td>9</td>\n",
              "      <td>38</td>\n",
              "    </tr>\n",
              "  </tbody>\n",
              "</table>\n",
              "</div>"
            ],
            "text/plain": [
              "     x   y\n",
              "0    5  18\n",
              "1  -15 -82\n",
              "2    7  28\n",
              "3   -7 -42\n",
              "4  -11 -62\n",
              "5    3   8\n",
              "6   -9 -52\n",
              "7    1  -2\n",
              "8   -1 -12\n",
              "9   11  48\n",
              "10   9  38"
            ]
          },
          "metadata": {
            "tags": []
          },
          "execution_count": 16
        }
      ]
    },
    {
      "cell_type": "markdown",
      "metadata": {
        "id": "gNrVdwts-iDe"
      },
      "source": [
        "# sklearn 이용"
      ]
    },
    {
      "cell_type": "code",
      "metadata": {
        "id": "JVGUAb9U-fk0"
      },
      "source": [
        "x = df['x']\n",
        "y = df['y']\n"
      ],
      "execution_count": 32,
      "outputs": []
    },
    {
      "cell_type": "code",
      "metadata": {
        "id": "HipIl6Q3sZxR",
        "outputId": "4678b136-daf2-4f6f-cd57-e42c7ff625fd",
        "colab": {
          "base_uri": "https://localhost:8080/",
          "height": 265
        }
      },
      "source": [
        "plt.plot(x ,y, 'o')\n",
        "plt.show()\n",
        "#matplotlib으로 시각화하여 표현하기"
      ],
      "execution_count": 33,
      "outputs": [
        {
          "output_type": "display_data",
          "data": {
            "image/png": "[encoded data removed]",
            "text/plain": [
              "<Figure size 432x288 with 1 Axes>"
            ]
          },
          "metadata": {
            "tags": [],
            "needs_background": "light"
          }
        }
      ]
    },
    {
      "cell_type": "code",
      "metadata": {
        "id": "XyzUdsgMuWPi",
        "outputId": "e42d3aad-6170-416f-ce17-da1a2b11be47",
        "colab": {
          "base_uri": "https://localhost:8080/"
        }
      },
      "source": [
        "#우상향 함을 보임\n",
        "line_fitter = LinearRegression()\n",
        "line_fitter.fit(x.values.reshape(-1,1), y)\n",
        "#x데이터를 2차원 array형태로 하기위해 .values.reshape(-1,1)을 해줌"
      ],
      "execution_count": 44,
      "outputs": [
        {
          "output_type": "execute_result",
          "data": {
            "text/plain": [
              "LinearRegression(copy_X=True, fit_intercept=True, n_jobs=None, normalize=False)"
            ]
          },
          "metadata": {
            "tags": []
          },
          "execution_count": 44
        }
      ]
    },
    {
      "cell_type": "code",
      "metadata": {
        "id": "Xl91CqwH-q_2",
        "colab": {
          "base_uri": "https://localhost:8080/"
        },
        "outputId": "5f7fad0c-f7fd-41af-8660-46358ab0618f"
      },
      "source": [
        "print(line_fitter.intercept_) ## 절편\n",
        "print(line_fitter.coef_) ## 기울기"
      ],
      "execution_count": 45,
      "outputs": [
        {
          "output_type": "stream",
          "text": [
            "-7.0\n",
            "[5.]\n"
          ],
          "name": "stdout"
        }
      ]
    },
    {
      "cell_type": "code",
      "metadata": {
        "id": "BsKEA96P-uXS",
        "colab": {
          "base_uri": "https://localhost:8080/",
          "height": 265
        },
        "outputId": "13d01b23-4134-4ab7-fef9-42b9ec5518a0"
      },
      "source": [
        "plt.plot(x, y, 'o')\n",
        "plt.plot(x,line_fitter.predict(x.values.reshape(-1,1)))\n",
        "plt.show()\n",
        "#기존 x값으로 y를 예측하게 하여 그래프를 그려 선으로 나타낸다."
      ],
      "execution_count": 42,
      "outputs": [
        {
          "output_type": "display_data",
          "data": {
            "image/png": "[encoded data removed]",
            "text/plain": [
              "<Figure size 432x288 with 1 Axes>"
            ]
          },
          "metadata": {
            "tags": [],
            "needs_background": "light"
          }
        }
      ]
    },
    {
      "cell_type": "code",
      "metadata": {
        "id": "mh-XYyqd_gNY",
        "colab": {
          "base_uri": "https://localhost:8080/"
        },
        "outputId": "16c3d881-86ac-450c-fc01-3714800f726a"
      },
      "source": [
        "line_fitter.predict([[-11],[-4],[-9],[-2],[-10],[-2],[0],[-3],[1],[-6],[-7]])\n",
        "#새로운 데이터 x'으로 목표값 y'를 예측하기단계"
      ],
      "execution_count": 43,
      "outputs": [
        {
          "output_type": "execute_result",
          "data": {
            "text/plain": [
              "array([-62., -27., -52., -17., -57., -17.,  -7., -22.,  -2., -37., -42.])"
            ]
          },
          "metadata": {
            "tags": []
          },
          "execution_count": 43
        }
      ]
    }
  ]
}