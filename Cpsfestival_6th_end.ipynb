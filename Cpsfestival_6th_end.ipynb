{
  "nbformat": 4,
  "nbformat_minor": 0,
  "metadata": {
    "colab": {
      "name": "minseok_week4_final.ipynb",
      "provenance": [],
      "authorship_tag": "ABX9TyO0gmNZlEi/Z5WknU5mpUMw",
      "include_colab_link": true
    },
    "kernelspec": {
      "name": "python3",
      "display_name": "Python 3"
    },
    "language_info": {
      "name": "python"
    }
  },
  "cells": [
    {
      "cell_type": "markdown",
      "metadata": {
        "id": "view-in-github",
        "colab_type": "text"
      },
      "source": [
        "<a href=\"https://colab.research.google.com/github/insomnia98/2021_AI_Python/blob/main/Cpsfestival_6th_end.ipynb\" target=\"_parent\"><img src=\"https://colab.research.google.com/assets/colab-badge.svg\" alt=\"Open In Colab\"/></a>"
      ]
    },
    {
      "cell_type": "code",
      "metadata": {
        "id": "W-PpsMyWvc2l"
      },
      "source": [
        "import pandas as pd\n",
        "#데이터 불러오는데 사용하는 라이브러리\n",
        "import matplotlib.pyplot as plt\n",
        "#시각화 목적 라이브러리\n",
        "import numpy as np\n",
        "#배열을 바꿀때 사용하는 라이브러리\n",
        "from sklearn.linear_model import LinearRegression\n",
        "#선형회귀 기계학습 scikit learn 라이브러리"
      ],
      "execution_count": 5,
      "outputs": []
    },
    {
      "cell_type": "code",
      "metadata": {
        "id": "LEFSmLhC5-Cf"
      },
      "source": [
        "df = pd.read_csv('/content/six.txt', delimiter = '\\t')\n",
        "#설명변수data set과 목표변수data set이 작성되있는 텍스트파일을 csv파일로 변환후 불러오기"
      ],
      "execution_count": 6,
      "outputs": []
    },
    {
      "cell_type": "code",
      "metadata": {
        "id": "i-p6A69O7itC",
        "colab": {
          "base_uri": "https://localhost:8080/",
          "height": 511
        },
        "outputId": "265824a2-808f-4a0b-b5de-fd3bae73bc60"
      },
      "source": [
        "df"
      ],
      "execution_count": 7,
      "outputs": [
        {
          "output_type": "execute_result",
          "data": {
            "text/html": [
              "<div>\n",
              "<style scoped>\n",
              "    .dataframe tbody tr th:only-of-type {\n",
              "        vertical-align: middle;\n",
              "    }\n",
              "\n",
              "    .dataframe tbody tr th {\n",
              "        vertical-align: top;\n",
              "    }\n",
              "\n",
              "    .dataframe thead th {\n",
              "        text-align: right;\n",
              "    }\n",
              "</style>\n",
              "<table border=\"1\" class=\"dataframe\">\n",
              "  <thead>\n",
              "    <tr style=\"text-align: right;\">\n",
              "      <th></th>\n",
              "      <th>x</th>\n",
              "      <th>y</th>\n",
              "    </tr>\n",
              "  </thead>\n",
              "  <tbody>\n",
              "    <tr>\n",
              "      <th>0</th>\n",
              "      <td>5</td>\n",
              "      <td>18</td>\n",
              "    </tr>\n",
              "    <tr>\n",
              "      <th>1</th>\n",
              "      <td>-15</td>\n",
              "      <td>-82</td>\n",
              "    </tr>\n",
              "    <tr>\n",
              "      <th>2</th>\n",
              "      <td>7</td>\n",
              "      <td>28</td>\n",
              "    </tr>\n",
              "    <tr>\n",
              "      <th>3</th>\n",
              "      <td>-7</td>\n",
              "      <td>-42</td>\n",
              "    </tr>\n",
              "    <tr>\n",
              "      <th>4</th>\n",
              "      <td>-11</td>\n",
              "      <td>-62</td>\n",
              "    </tr>\n",
              "    <tr>\n",
              "      <th>5</th>\n",
              "      <td>3</td>\n",
              "      <td>8</td>\n",
              "    </tr>\n",
              "    <tr>\n",
              "      <th>6</th>\n",
              "      <td>-9</td>\n",
              "      <td>-52</td>\n",
              "    </tr>\n",
              "    <tr>\n",
              "      <th>7</th>\n",
              "      <td>1</td>\n",
              "      <td>-2</td>\n",
              "    </tr>\n",
              "    <tr>\n",
              "      <th>8</th>\n",
              "      <td>-1</td>\n",
              "      <td>-12</td>\n",
              "    </tr>\n",
              "    <tr>\n",
              "      <th>9</th>\n",
              "      <td>11</td>\n",
              "      <td>48</td>\n",
              "    </tr>\n",
              "    <tr>\n",
              "      <th>10</th>\n",
              "      <td>9</td>\n",
              "      <td>38</td>\n",
              "    </tr>\n",
              "    <tr>\n",
              "      <th>11</th>\n",
              "      <td>-13</td>\n",
              "      <td>-72</td>\n",
              "    </tr>\n",
              "    <tr>\n",
              "      <th>12</th>\n",
              "      <td>13</td>\n",
              "      <td>58</td>\n",
              "    </tr>\n",
              "    <tr>\n",
              "      <th>13</th>\n",
              "      <td>-3</td>\n",
              "      <td>-22</td>\n",
              "    </tr>\n",
              "    <tr>\n",
              "      <th>14</th>\n",
              "      <td>-5</td>\n",
              "      <td>-32</td>\n",
              "    </tr>\n",
              "  </tbody>\n",
              "</table>\n",
              "</div>"
            ],
            "text/plain": [
              "     x   y\n",
              "0    5  18\n",
              "1  -15 -82\n",
              "2    7  28\n",
              "3   -7 -42\n",
              "4  -11 -62\n",
              "5    3   8\n",
              "6   -9 -52\n",
              "7    1  -2\n",
              "8   -1 -12\n",
              "9   11  48\n",
              "10   9  38\n",
              "11 -13 -72\n",
              "12  13  58\n",
              "13  -3 -22\n",
              "14  -5 -32"
            ]
          },
          "metadata": {
            "tags": []
          },
          "execution_count": 7
        }
      ]
    },
    {
      "cell_type": "markdown",
      "metadata": {
        "id": "gNrVdwts-iDe"
      },
      "source": [
        "# sklearn 이용"
      ]
    },
    {
      "cell_type": "code",
      "metadata": {
        "id": "JVGUAb9U-fk0"
      },
      "source": [
        "x = df['x']\n",
        "y = df['y']\n"
      ],
      "execution_count": 8,
      "outputs": []
    },
    {
      "cell_type": "code",
      "metadata": {
        "id": "HipIl6Q3sZxR",
        "colab": {
          "base_uri": "https://localhost:8080/",
          "height": 265
        },
        "outputId": "c1659b24-734b-4401-a20d-19ae3d065584"
      },
      "source": [
        "plt.plot(x ,y, 'o')\n",
        "plt.show()\n",
        "#matplotlib으로 시각화하여 표현하기"
      ],
      "execution_count": 9,
      "outputs": [
        {
          "output_type": "display_data",
          "data": {
            "image/png": "[encoded data removed]",
            "text/plain": [
              "<Figure size 432x288 with 1 Axes>"
            ]
          },
          "metadata": {
            "tags": [],
            "needs_background": "light"
          }
        }
      ]
    },
    {
      "cell_type": "code",
      "metadata": {
        "id": "XyzUdsgMuWPi",
        "colab": {
          "base_uri": "https://localhost:8080/"
        },
        "outputId": "c1ca9825-e69d-4eea-e8a1-8ec334672a57"
      },
      "source": [
        "#우상향 함을 보임\n",
        "line_fitter = LinearRegression()\n",
        "line_fitter.fit(x.values.reshape(-1,1), y)\n",
        "#x데이터를 2차원 array형태로 하기위해 .values.reshape(-1,1)을 해줌"
      ],
      "execution_count": 10,
      "outputs": [
        {
          "output_type": "execute_result",
          "data": {
            "text/plain": [
              "LinearRegression(copy_X=True, fit_intercept=True, n_jobs=None, normalize=False)"
            ]
          },
          "metadata": {
            "tags": []
          },
          "execution_count": 10
        }
      ]
    },
    {
      "cell_type": "code",
      "metadata": {
        "id": "Xl91CqwH-q_2",
        "colab": {
          "base_uri": "https://localhost:8080/"
        },
        "outputId": "54263b48-f737-404a-fb68-b811f25e1a45"
      },
      "source": [
        "print(line_fitter.intercept_) ## 절편\n",
        "print(line_fitter.coef_) ## 기울기"
      ],
      "execution_count": 11,
      "outputs": [
        {
          "output_type": "stream",
          "text": [
            "-7.0\n",
            "[5.]\n"
          ],
          "name": "stdout"
        }
      ]
    },
    {
      "cell_type": "code",
      "metadata": {
        "id": "BsKEA96P-uXS",
        "colab": {
          "base_uri": "https://localhost:8080/",
          "height": 265
        },
        "outputId": "abf40d59-0a81-4fa6-8b85-a7e4830a582e"
      },
      "source": [
        "plt.plot(x, y, 'o')\n",
        "plt.plot(x,line_fitter.predict(x.values.reshape(-1,1)))\n",
        "plt.show()\n",
        "#기존 x값으로 y를 예측하게 하여 그래프를 그려 선으로 나타낸다."
      ],
      "execution_count": 12,
      "outputs": [
        {
          "output_type": "display_data",
          "data": {
            "image/png": "[encoded data removed]",
            "text/plain": [
              "<Figure size 432x288 with 1 Axes>"
            ]
          },
          "metadata": {
            "tags": [],
            "needs_background": "light"
          }
        }
      ]
    },
    {
      "cell_type": "code",
      "metadata": {
        "id": "mh-XYyqd_gNY",
        "colab": {
          "base_uri": "https://localhost:8080/"
        },
        "outputId": "d6d7e485-7063-4861-e2b8-e85836eb7325"
      },
      "source": [
        "line_fitter.predict([[-11],[-4],[-9],[-2],[-10],[-2],[0],[-3],[1],[-6],[-7],[-5],[-8],[-1]])\n",
        "#새로운 데이터 x'으로 목표값 y'를 예측하기단계"
      ],
      "execution_count": 13,
      "outputs": [
        {
          "output_type": "execute_result",
          "data": {
            "text/plain": [
              "array([-62., -27., -52., -17., -57., -17.,  -7., -22.,  -2., -37., -42.,\n",
              "       -32., -47., -12.])"
            ]
          },
          "metadata": {
            "tags": []
          },
          "execution_count": 13
        }
      ]
    },
    {
      "cell_type": "code",
      "metadata": {
        "id": "GhMAarK0K_hY"
      },
      "source": [
        ""
      ],
      "execution_count": null,
      "outputs": []
    }
  ]
}